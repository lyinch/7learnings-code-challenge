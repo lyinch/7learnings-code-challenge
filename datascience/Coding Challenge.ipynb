{
 "cells": [
  {
   "cell_type": "code",
   "execution_count": 1,
   "metadata": {},
   "outputs": [],
   "source": [
    "%load_ext google.cloud.bigquery"
   ]
  },
  {
   "cell_type": "code",
   "execution_count": 2,
   "metadata": {},
   "outputs": [],
   "source": [
    "import datetime as dt\n",
    "from os import environ\n",
    "\n",
    "from google.cloud import bigquery\n",
    "from matplotlib import pyplot as plt\n",
    "from matplotlib import style\n",
    "import numpy as np\n",
    "from sklearn import tree\n",
    "\n",
    "from helper import mean_impute"
   ]
  },
  {
   "cell_type": "code",
   "execution_count": 3,
   "metadata": {},
   "outputs": [],
   "source": [
    "style.use('dark_background') # make plots readable in vscode\n",
    "plt.rcParams['figure.figsize'] = [12, 8]\n",
    "plt.rcParams['figure.dpi'] = 200"
   ]
  },
  {
   "cell_type": "code",
   "execution_count": 4,
   "metadata": {},
   "outputs": [],
   "source": [
    "if not environ.get('GOOGLE_APPLICATION_CREDENTIALS'):\n",
    "    environ['GOOGLE_APPLICATION_CREDENTIALS'] = '/Users/backes/Downloads/learnings-350114-5842405dcd8d.json'"
   ]
  },
  {
   "cell_type": "code",
   "execution_count": 5,
   "metadata": {},
   "outputs": [],
   "source": [
    "bqclient = bigquery.Client()"
   ]
  },
  {
   "cell_type": "markdown",
   "metadata": {},
   "source": [
    "# \"Will it snow tomorrow?\" - The time traveler asked\n",
    "The following dataset contains climate information form over 9000 stations accross the world. The overall goal of these subtasks will be to predict whether it will snow tomorrow 13 years ago. So if today is 2022.02.15 then the weather we want to forecast is for the date 2009.02.16. You are suppsed to solve the tasks using Big Query, which can be used in the Jupyter Notebook like it is shown in the following cell. For further information and how to used BigQuery in Jupyter Notebook refer to the Google Docs. \n",
    "\n",
    "The goal of this test is, to test your coding knowledge in Python, BigQuery and Pandas as well as your understanding of Data Science. If you get stuck at the first part, you can use the replacement data provided in the second part"
   ]
  },
  {
   "cell_type": "code",
   "execution_count": 6,
   "metadata": {},
   "outputs": [
    {
     "name": "stderr",
     "output_type": "stream",
     "text": [
      "Query complete after 0.01s: 100%|██████████| 1/1 [00:00<00:00, 824.84query/s] \n",
      "Downloading:   0%|          | 0/20 [00:00<?, ?rows/s]"
     ]
    },
    {
     "name": "stderr",
     "output_type": "stream",
     "text": [
      "Downloading: 100%|██████████| 20/20 [00:01<00:00, 10.21rows/s]\n"
     ]
    },
    {
     "data": {
      "text/html": [
       "<div>\n",
       "<style scoped>\n",
       "    .dataframe tbody tr th:only-of-type {\n",
       "        vertical-align: middle;\n",
       "    }\n",
       "\n",
       "    .dataframe tbody tr th {\n",
       "        vertical-align: top;\n",
       "    }\n",
       "\n",
       "    .dataframe thead th {\n",
       "        text-align: right;\n",
       "    }\n",
       "</style>\n",
       "<table border=\"1\" class=\"dataframe\">\n",
       "  <thead>\n",
       "    <tr style=\"text-align: right;\">\n",
       "      <th></th>\n",
       "      <th>station_number</th>\n",
       "      <th>wban_number</th>\n",
       "      <th>year</th>\n",
       "      <th>month</th>\n",
       "      <th>day</th>\n",
       "      <th>mean_temp</th>\n",
       "      <th>num_mean_temp_samples</th>\n",
       "      <th>mean_dew_point</th>\n",
       "      <th>num_mean_dew_point_samples</th>\n",
       "      <th>mean_sealevel_pressure</th>\n",
       "      <th>...</th>\n",
       "      <th>min_temperature</th>\n",
       "      <th>min_temperature_explicit</th>\n",
       "      <th>total_precipitation</th>\n",
       "      <th>snow_depth</th>\n",
       "      <th>fog</th>\n",
       "      <th>rain</th>\n",
       "      <th>snow</th>\n",
       "      <th>hail</th>\n",
       "      <th>thunder</th>\n",
       "      <th>tornado</th>\n",
       "    </tr>\n",
       "  </thead>\n",
       "  <tbody>\n",
       "    <tr>\n",
       "      <th>0</th>\n",
       "      <td>39730</td>\n",
       "      <td>99999</td>\n",
       "      <td>1929</td>\n",
       "      <td>10</td>\n",
       "      <td>20</td>\n",
       "      <td>52.799999</td>\n",
       "      <td>4</td>\n",
       "      <td>45.500000</td>\n",
       "      <td>4</td>\n",
       "      <td>NaN</td>\n",
       "      <td>...</td>\n",
       "      <td>NaN</td>\n",
       "      <td>&lt;NA&gt;</td>\n",
       "      <td>0.0</td>\n",
       "      <td>NaN</td>\n",
       "      <td>False</td>\n",
       "      <td>False</td>\n",
       "      <td>False</td>\n",
       "      <td>False</td>\n",
       "      <td>False</td>\n",
       "      <td>False</td>\n",
       "    </tr>\n",
       "    <tr>\n",
       "      <th>1</th>\n",
       "      <td>33110</td>\n",
       "      <td>99999</td>\n",
       "      <td>1929</td>\n",
       "      <td>12</td>\n",
       "      <td>18</td>\n",
       "      <td>47.500000</td>\n",
       "      <td>4</td>\n",
       "      <td>44.000000</td>\n",
       "      <td>4</td>\n",
       "      <td>NaN</td>\n",
       "      <td>...</td>\n",
       "      <td>NaN</td>\n",
       "      <td>&lt;NA&gt;</td>\n",
       "      <td>NaN</td>\n",
       "      <td>NaN</td>\n",
       "      <td>False</td>\n",
       "      <td>False</td>\n",
       "      <td>False</td>\n",
       "      <td>False</td>\n",
       "      <td>False</td>\n",
       "      <td>False</td>\n",
       "    </tr>\n",
       "    <tr>\n",
       "      <th>2</th>\n",
       "      <td>37770</td>\n",
       "      <td>99999</td>\n",
       "      <td>1931</td>\n",
       "      <td>4</td>\n",
       "      <td>24</td>\n",
       "      <td>50.200001</td>\n",
       "      <td>4</td>\n",
       "      <td>44.299999</td>\n",
       "      <td>4</td>\n",
       "      <td>NaN</td>\n",
       "      <td>...</td>\n",
       "      <td>NaN</td>\n",
       "      <td>&lt;NA&gt;</td>\n",
       "      <td>NaN</td>\n",
       "      <td>NaN</td>\n",
       "      <td>False</td>\n",
       "      <td>False</td>\n",
       "      <td>False</td>\n",
       "      <td>False</td>\n",
       "      <td>False</td>\n",
       "      <td>False</td>\n",
       "    </tr>\n",
       "    <tr>\n",
       "      <th>3</th>\n",
       "      <td>726810</td>\n",
       "      <td>24131</td>\n",
       "      <td>1931</td>\n",
       "      <td>6</td>\n",
       "      <td>23</td>\n",
       "      <td>65.099998</td>\n",
       "      <td>24</td>\n",
       "      <td>41.500000</td>\n",
       "      <td>8</td>\n",
       "      <td>NaN</td>\n",
       "      <td>...</td>\n",
       "      <td>NaN</td>\n",
       "      <td>&lt;NA&gt;</td>\n",
       "      <td>0.0</td>\n",
       "      <td>NaN</td>\n",
       "      <td>False</td>\n",
       "      <td>False</td>\n",
       "      <td>False</td>\n",
       "      <td>False</td>\n",
       "      <td>False</td>\n",
       "      <td>False</td>\n",
       "    </tr>\n",
       "    <tr>\n",
       "      <th>4</th>\n",
       "      <td>726810</td>\n",
       "      <td>24131</td>\n",
       "      <td>1931</td>\n",
       "      <td>3</td>\n",
       "      <td>2</td>\n",
       "      <td>42.799999</td>\n",
       "      <td>24</td>\n",
       "      <td>31.500000</td>\n",
       "      <td>8</td>\n",
       "      <td>NaN</td>\n",
       "      <td>...</td>\n",
       "      <td>NaN</td>\n",
       "      <td>&lt;NA&gt;</td>\n",
       "      <td>0.0</td>\n",
       "      <td>NaN</td>\n",
       "      <td>False</td>\n",
       "      <td>False</td>\n",
       "      <td>False</td>\n",
       "      <td>False</td>\n",
       "      <td>False</td>\n",
       "      <td>False</td>\n",
       "    </tr>\n",
       "    <tr>\n",
       "      <th>5</th>\n",
       "      <td>726810</td>\n",
       "      <td>24131</td>\n",
       "      <td>1931</td>\n",
       "      <td>9</td>\n",
       "      <td>17</td>\n",
       "      <td>67.000000</td>\n",
       "      <td>24</td>\n",
       "      <td>40.500000</td>\n",
       "      <td>8</td>\n",
       "      <td>NaN</td>\n",
       "      <td>...</td>\n",
       "      <td>NaN</td>\n",
       "      <td>&lt;NA&gt;</td>\n",
       "      <td>0.0</td>\n",
       "      <td>NaN</td>\n",
       "      <td>False</td>\n",
       "      <td>False</td>\n",
       "      <td>False</td>\n",
       "      <td>False</td>\n",
       "      <td>False</td>\n",
       "      <td>False</td>\n",
       "    </tr>\n",
       "    <tr>\n",
       "      <th>6</th>\n",
       "      <td>726810</td>\n",
       "      <td>24131</td>\n",
       "      <td>1931</td>\n",
       "      <td>8</td>\n",
       "      <td>7</td>\n",
       "      <td>68.400002</td>\n",
       "      <td>24</td>\n",
       "      <td>37.200001</td>\n",
       "      <td>8</td>\n",
       "      <td>NaN</td>\n",
       "      <td>...</td>\n",
       "      <td>NaN</td>\n",
       "      <td>&lt;NA&gt;</td>\n",
       "      <td>0.0</td>\n",
       "      <td>NaN</td>\n",
       "      <td>False</td>\n",
       "      <td>False</td>\n",
       "      <td>False</td>\n",
       "      <td>False</td>\n",
       "      <td>False</td>\n",
       "      <td>False</td>\n",
       "    </tr>\n",
       "    <tr>\n",
       "      <th>7</th>\n",
       "      <td>726810</td>\n",
       "      <td>24131</td>\n",
       "      <td>1932</td>\n",
       "      <td>7</td>\n",
       "      <td>14</td>\n",
       "      <td>64.099998</td>\n",
       "      <td>24</td>\n",
       "      <td>54.099998</td>\n",
       "      <td>8</td>\n",
       "      <td>NaN</td>\n",
       "      <td>...</td>\n",
       "      <td>NaN</td>\n",
       "      <td>&lt;NA&gt;</td>\n",
       "      <td>NaN</td>\n",
       "      <td>NaN</td>\n",
       "      <td>False</td>\n",
       "      <td>False</td>\n",
       "      <td>False</td>\n",
       "      <td>False</td>\n",
       "      <td>False</td>\n",
       "      <td>False</td>\n",
       "    </tr>\n",
       "    <tr>\n",
       "      <th>8</th>\n",
       "      <td>726810</td>\n",
       "      <td>24131</td>\n",
       "      <td>1932</td>\n",
       "      <td>10</td>\n",
       "      <td>23</td>\n",
       "      <td>41.099998</td>\n",
       "      <td>24</td>\n",
       "      <td>31.000000</td>\n",
       "      <td>8</td>\n",
       "      <td>NaN</td>\n",
       "      <td>...</td>\n",
       "      <td>NaN</td>\n",
       "      <td>&lt;NA&gt;</td>\n",
       "      <td>NaN</td>\n",
       "      <td>NaN</td>\n",
       "      <td>False</td>\n",
       "      <td>False</td>\n",
       "      <td>False</td>\n",
       "      <td>False</td>\n",
       "      <td>False</td>\n",
       "      <td>False</td>\n",
       "    </tr>\n",
       "    <tr>\n",
       "      <th>9</th>\n",
       "      <td>726810</td>\n",
       "      <td>24131</td>\n",
       "      <td>1932</td>\n",
       "      <td>1</td>\n",
       "      <td>5</td>\n",
       "      <td>24.600000</td>\n",
       "      <td>24</td>\n",
       "      <td>21.100000</td>\n",
       "      <td>8</td>\n",
       "      <td>NaN</td>\n",
       "      <td>...</td>\n",
       "      <td>NaN</td>\n",
       "      <td>&lt;NA&gt;</td>\n",
       "      <td>NaN</td>\n",
       "      <td>NaN</td>\n",
       "      <td>True</td>\n",
       "      <td>True</td>\n",
       "      <td>True</td>\n",
       "      <td>True</td>\n",
       "      <td>True</td>\n",
       "      <td>True</td>\n",
       "    </tr>\n",
       "    <tr>\n",
       "      <th>10</th>\n",
       "      <td>726815</td>\n",
       "      <td>24106</td>\n",
       "      <td>1932</td>\n",
       "      <td>8</td>\n",
       "      <td>27</td>\n",
       "      <td>71.000000</td>\n",
       "      <td>24</td>\n",
       "      <td>NaN</td>\n",
       "      <td>&lt;NA&gt;</td>\n",
       "      <td>NaN</td>\n",
       "      <td>...</td>\n",
       "      <td>NaN</td>\n",
       "      <td>&lt;NA&gt;</td>\n",
       "      <td>0.0</td>\n",
       "      <td>NaN</td>\n",
       "      <td>False</td>\n",
       "      <td>False</td>\n",
       "      <td>False</td>\n",
       "      <td>False</td>\n",
       "      <td>False</td>\n",
       "      <td>False</td>\n",
       "    </tr>\n",
       "    <tr>\n",
       "      <th>11</th>\n",
       "      <td>726810</td>\n",
       "      <td>24131</td>\n",
       "      <td>1932</td>\n",
       "      <td>8</td>\n",
       "      <td>20</td>\n",
       "      <td>71.000000</td>\n",
       "      <td>24</td>\n",
       "      <td>41.700001</td>\n",
       "      <td>8</td>\n",
       "      <td>NaN</td>\n",
       "      <td>...</td>\n",
       "      <td>NaN</td>\n",
       "      <td>&lt;NA&gt;</td>\n",
       "      <td>0.0</td>\n",
       "      <td>NaN</td>\n",
       "      <td>False</td>\n",
       "      <td>False</td>\n",
       "      <td>False</td>\n",
       "      <td>False</td>\n",
       "      <td>False</td>\n",
       "      <td>False</td>\n",
       "    </tr>\n",
       "    <tr>\n",
       "      <th>12</th>\n",
       "      <td>726810</td>\n",
       "      <td>24131</td>\n",
       "      <td>1932</td>\n",
       "      <td>5</td>\n",
       "      <td>21</td>\n",
       "      <td>55.200001</td>\n",
       "      <td>24</td>\n",
       "      <td>46.599998</td>\n",
       "      <td>8</td>\n",
       "      <td>NaN</td>\n",
       "      <td>...</td>\n",
       "      <td>NaN</td>\n",
       "      <td>&lt;NA&gt;</td>\n",
       "      <td>NaN</td>\n",
       "      <td>NaN</td>\n",
       "      <td>False</td>\n",
       "      <td>False</td>\n",
       "      <td>False</td>\n",
       "      <td>False</td>\n",
       "      <td>False</td>\n",
       "      <td>False</td>\n",
       "    </tr>\n",
       "    <tr>\n",
       "      <th>13</th>\n",
       "      <td>370310</td>\n",
       "      <td>99999</td>\n",
       "      <td>1933</td>\n",
       "      <td>10</td>\n",
       "      <td>17</td>\n",
       "      <td>55.299999</td>\n",
       "      <td>4</td>\n",
       "      <td>NaN</td>\n",
       "      <td>&lt;NA&gt;</td>\n",
       "      <td>NaN</td>\n",
       "      <td>...</td>\n",
       "      <td>NaN</td>\n",
       "      <td>&lt;NA&gt;</td>\n",
       "      <td>0.0</td>\n",
       "      <td>NaN</td>\n",
       "      <td>False</td>\n",
       "      <td>False</td>\n",
       "      <td>False</td>\n",
       "      <td>False</td>\n",
       "      <td>False</td>\n",
       "      <td>False</td>\n",
       "    </tr>\n",
       "    <tr>\n",
       "      <th>14</th>\n",
       "      <td>292310</td>\n",
       "      <td>99999</td>\n",
       "      <td>1933</td>\n",
       "      <td>12</td>\n",
       "      <td>1</td>\n",
       "      <td>-11.000000</td>\n",
       "      <td>4</td>\n",
       "      <td>NaN</td>\n",
       "      <td>&lt;NA&gt;</td>\n",
       "      <td>NaN</td>\n",
       "      <td>...</td>\n",
       "      <td>NaN</td>\n",
       "      <td>&lt;NA&gt;</td>\n",
       "      <td>NaN</td>\n",
       "      <td>NaN</td>\n",
       "      <td>False</td>\n",
       "      <td>False</td>\n",
       "      <td>False</td>\n",
       "      <td>False</td>\n",
       "      <td>False</td>\n",
       "      <td>False</td>\n",
       "    </tr>\n",
       "    <tr>\n",
       "      <th>15</th>\n",
       "      <td>370310</td>\n",
       "      <td>99999</td>\n",
       "      <td>1933</td>\n",
       "      <td>6</td>\n",
       "      <td>17</td>\n",
       "      <td>62.700001</td>\n",
       "      <td>4</td>\n",
       "      <td>NaN</td>\n",
       "      <td>&lt;NA&gt;</td>\n",
       "      <td>NaN</td>\n",
       "      <td>...</td>\n",
       "      <td>NaN</td>\n",
       "      <td>&lt;NA&gt;</td>\n",
       "      <td>0.0</td>\n",
       "      <td>NaN</td>\n",
       "      <td>False</td>\n",
       "      <td>False</td>\n",
       "      <td>False</td>\n",
       "      <td>False</td>\n",
       "      <td>False</td>\n",
       "      <td>False</td>\n",
       "    </tr>\n",
       "    <tr>\n",
       "      <th>16</th>\n",
       "      <td>239330</td>\n",
       "      <td>99999</td>\n",
       "      <td>1933</td>\n",
       "      <td>6</td>\n",
       "      <td>4</td>\n",
       "      <td>70.500000</td>\n",
       "      <td>4</td>\n",
       "      <td>NaN</td>\n",
       "      <td>&lt;NA&gt;</td>\n",
       "      <td>NaN</td>\n",
       "      <td>...</td>\n",
       "      <td>NaN</td>\n",
       "      <td>&lt;NA&gt;</td>\n",
       "      <td>0.0</td>\n",
       "      <td>NaN</td>\n",
       "      <td>True</td>\n",
       "      <td>True</td>\n",
       "      <td>True</td>\n",
       "      <td>True</td>\n",
       "      <td>True</td>\n",
       "      <td>True</td>\n",
       "    </tr>\n",
       "    <tr>\n",
       "      <th>17</th>\n",
       "      <td>282750</td>\n",
       "      <td>99999</td>\n",
       "      <td>1933</td>\n",
       "      <td>1</td>\n",
       "      <td>7</td>\n",
       "      <td>-5.000000</td>\n",
       "      <td>4</td>\n",
       "      <td>NaN</td>\n",
       "      <td>&lt;NA&gt;</td>\n",
       "      <td>NaN</td>\n",
       "      <td>...</td>\n",
       "      <td>NaN</td>\n",
       "      <td>&lt;NA&gt;</td>\n",
       "      <td>0.0</td>\n",
       "      <td>NaN</td>\n",
       "      <td>False</td>\n",
       "      <td>False</td>\n",
       "      <td>False</td>\n",
       "      <td>False</td>\n",
       "      <td>False</td>\n",
       "      <td>False</td>\n",
       "    </tr>\n",
       "    <tr>\n",
       "      <th>18</th>\n",
       "      <td>292310</td>\n",
       "      <td>99999</td>\n",
       "      <td>1933</td>\n",
       "      <td>3</td>\n",
       "      <td>17</td>\n",
       "      <td>-10.300000</td>\n",
       "      <td>4</td>\n",
       "      <td>NaN</td>\n",
       "      <td>&lt;NA&gt;</td>\n",
       "      <td>NaN</td>\n",
       "      <td>...</td>\n",
       "      <td>NaN</td>\n",
       "      <td>&lt;NA&gt;</td>\n",
       "      <td>0.0</td>\n",
       "      <td>NaN</td>\n",
       "      <td>False</td>\n",
       "      <td>False</td>\n",
       "      <td>False</td>\n",
       "      <td>False</td>\n",
       "      <td>False</td>\n",
       "      <td>False</td>\n",
       "    </tr>\n",
       "    <tr>\n",
       "      <th>19</th>\n",
       "      <td>370310</td>\n",
       "      <td>99999</td>\n",
       "      <td>1933</td>\n",
       "      <td>4</td>\n",
       "      <td>23</td>\n",
       "      <td>65.000000</td>\n",
       "      <td>4</td>\n",
       "      <td>NaN</td>\n",
       "      <td>&lt;NA&gt;</td>\n",
       "      <td>NaN</td>\n",
       "      <td>...</td>\n",
       "      <td>NaN</td>\n",
       "      <td>&lt;NA&gt;</td>\n",
       "      <td>0.0</td>\n",
       "      <td>NaN</td>\n",
       "      <td>False</td>\n",
       "      <td>False</td>\n",
       "      <td>False</td>\n",
       "      <td>False</td>\n",
       "      <td>False</td>\n",
       "      <td>False</td>\n",
       "    </tr>\n",
       "  </tbody>\n",
       "</table>\n",
       "<p>20 rows × 31 columns</p>\n",
       "</div>"
      ],
      "text/plain": [
       "    station_number  wban_number  year  month  day  mean_temp  \\\n",
       "0            39730        99999  1929     10   20  52.799999   \n",
       "1            33110        99999  1929     12   18  47.500000   \n",
       "2            37770        99999  1931      4   24  50.200001   \n",
       "3           726810        24131  1931      6   23  65.099998   \n",
       "4           726810        24131  1931      3    2  42.799999   \n",
       "5           726810        24131  1931      9   17  67.000000   \n",
       "6           726810        24131  1931      8    7  68.400002   \n",
       "7           726810        24131  1932      7   14  64.099998   \n",
       "8           726810        24131  1932     10   23  41.099998   \n",
       "9           726810        24131  1932      1    5  24.600000   \n",
       "10          726815        24106  1932      8   27  71.000000   \n",
       "11          726810        24131  1932      8   20  71.000000   \n",
       "12          726810        24131  1932      5   21  55.200001   \n",
       "13          370310        99999  1933     10   17  55.299999   \n",
       "14          292310        99999  1933     12    1 -11.000000   \n",
       "15          370310        99999  1933      6   17  62.700001   \n",
       "16          239330        99999  1933      6    4  70.500000   \n",
       "17          282750        99999  1933      1    7  -5.000000   \n",
       "18          292310        99999  1933      3   17 -10.300000   \n",
       "19          370310        99999  1933      4   23  65.000000   \n",
       "\n",
       "    num_mean_temp_samples  mean_dew_point  num_mean_dew_point_samples  \\\n",
       "0                       4       45.500000                           4   \n",
       "1                       4       44.000000                           4   \n",
       "2                       4       44.299999                           4   \n",
       "3                      24       41.500000                           8   \n",
       "4                      24       31.500000                           8   \n",
       "5                      24       40.500000                           8   \n",
       "6                      24       37.200001                           8   \n",
       "7                      24       54.099998                           8   \n",
       "8                      24       31.000000                           8   \n",
       "9                      24       21.100000                           8   \n",
       "10                     24             NaN                        <NA>   \n",
       "11                     24       41.700001                           8   \n",
       "12                     24       46.599998                           8   \n",
       "13                      4             NaN                        <NA>   \n",
       "14                      4             NaN                        <NA>   \n",
       "15                      4             NaN                        <NA>   \n",
       "16                      4             NaN                        <NA>   \n",
       "17                      4             NaN                        <NA>   \n",
       "18                      4             NaN                        <NA>   \n",
       "19                      4             NaN                        <NA>   \n",
       "\n",
       "    mean_sealevel_pressure  ...  min_temperature  min_temperature_explicit  \\\n",
       "0                      NaN  ...              NaN                      <NA>   \n",
       "1                      NaN  ...              NaN                      <NA>   \n",
       "2                      NaN  ...              NaN                      <NA>   \n",
       "3                      NaN  ...              NaN                      <NA>   \n",
       "4                      NaN  ...              NaN                      <NA>   \n",
       "5                      NaN  ...              NaN                      <NA>   \n",
       "6                      NaN  ...              NaN                      <NA>   \n",
       "7                      NaN  ...              NaN                      <NA>   \n",
       "8                      NaN  ...              NaN                      <NA>   \n",
       "9                      NaN  ...              NaN                      <NA>   \n",
       "10                     NaN  ...              NaN                      <NA>   \n",
       "11                     NaN  ...              NaN                      <NA>   \n",
       "12                     NaN  ...              NaN                      <NA>   \n",
       "13                     NaN  ...              NaN                      <NA>   \n",
       "14                     NaN  ...              NaN                      <NA>   \n",
       "15                     NaN  ...              NaN                      <NA>   \n",
       "16                     NaN  ...              NaN                      <NA>   \n",
       "17                     NaN  ...              NaN                      <NA>   \n",
       "18                     NaN  ...              NaN                      <NA>   \n",
       "19                     NaN  ...              NaN                      <NA>   \n",
       "\n",
       "    total_precipitation  snow_depth    fog   rain   snow   hail  thunder  \\\n",
       "0                   0.0         NaN  False  False  False  False    False   \n",
       "1                   NaN         NaN  False  False  False  False    False   \n",
       "2                   NaN         NaN  False  False  False  False    False   \n",
       "3                   0.0         NaN  False  False  False  False    False   \n",
       "4                   0.0         NaN  False  False  False  False    False   \n",
       "5                   0.0         NaN  False  False  False  False    False   \n",
       "6                   0.0         NaN  False  False  False  False    False   \n",
       "7                   NaN         NaN  False  False  False  False    False   \n",
       "8                   NaN         NaN  False  False  False  False    False   \n",
       "9                   NaN         NaN   True   True   True   True     True   \n",
       "10                  0.0         NaN  False  False  False  False    False   \n",
       "11                  0.0         NaN  False  False  False  False    False   \n",
       "12                  NaN         NaN  False  False  False  False    False   \n",
       "13                  0.0         NaN  False  False  False  False    False   \n",
       "14                  NaN         NaN  False  False  False  False    False   \n",
       "15                  0.0         NaN  False  False  False  False    False   \n",
       "16                  0.0         NaN   True   True   True   True     True   \n",
       "17                  0.0         NaN  False  False  False  False    False   \n",
       "18                  0.0         NaN  False  False  False  False    False   \n",
       "19                  0.0         NaN  False  False  False  False    False   \n",
       "\n",
       "    tornado  \n",
       "0     False  \n",
       "1     False  \n",
       "2     False  \n",
       "3     False  \n",
       "4     False  \n",
       "5     False  \n",
       "6     False  \n",
       "7     False  \n",
       "8     False  \n",
       "9      True  \n",
       "10    False  \n",
       "11    False  \n",
       "12    False  \n",
       "13    False  \n",
       "14    False  \n",
       "15    False  \n",
       "16     True  \n",
       "17    False  \n",
       "18    False  \n",
       "19    False  \n",
       "\n",
       "[20 rows x 31 columns]"
      ]
     },
     "execution_count": 6,
     "metadata": {},
     "output_type": "execute_result"
    }
   ],
   "source": [
    "%%bigquery \n",
    "SELECT\n",
    "*,\n",
    "FROM `bigquery-public-data.samples.gsod`\n",
    "LIMIT 20 \n"
   ]
  },
  {
   "cell_type": "markdown",
   "metadata": {},
   "source": [
    "## Part 1"
   ]
  },
  {
   "cell_type": "markdown",
   "metadata": {},
   "source": [
    "### 1. Task\n",
    "Change the date format to 'YYYY-MM-DD' and select the data from 2005 till 2009 for station numbers including and between 725300 and 726300 , and save it as a pandas dataframe. Note the maximum year available is 2010. "
   ]
  },
  {
   "cell_type": "code",
   "execution_count": 7,
   "metadata": {
    "scrolled": true
   },
   "outputs": [],
   "source": [
    "query_string = \"\"\"\n",
    "SELECT\n",
    "*,\n",
    "CONCAT(year,'-',LPAD(CAST(month AS STRING), 2, '0'),'-',LPAD(CAST(day AS STRING),2,'0')) as date\n",
    "FROM `bigquery-public-data.samples.gsod`\n",
    "WHERE year BETWEEN 2005 AND 2009\n",
    "AND station_number BETWEEN 725300 AND 726300\n",
    "ORDER BY date ASC\n",
    "\"\"\"\n",
    "df_original = (\n",
    "    bqclient.query(query_string)\n",
    "    .result()\n",
    "    .to_dataframe()\n",
    ")\n",
    "# note: query is in addition ordered by date so that downstream code doesn't have to order it all the time"
   ]
  },
  {
   "cell_type": "markdown",
   "metadata": {},
   "source": [
    "### 2. Task \n",
    "From here want to work with the data from all stations 725300 to 725330 that have information from 2005 till 2009. "
   ]
  },
  {
   "cell_type": "markdown",
   "metadata": {},
   "source": [
    "Do a first analysis of the remaining dataset, clean or drop data depending on how you see appropriate. "
   ]
  },
  {
   "cell_type": "markdown",
   "metadata": {},
   "source": [
    "## Data Cleaning\n",
    "Before looking at the data we need to understand the individual columns. For some reason, metadata queries do not work with public datasets: `SELECT * FROM bigquery-public-data.samples.gsod.INFORMATION_SCHEMA`, so the descriptions are copied manually from: https://console.cloud.google.com/bigquery?p=bigquery-public-data&d=samples&t=gsod&page=table (only non-obvious columns explained)\n",
    "\n",
    "- station_number: The World Meteorological Organization (WMO) / DATSAV3 station number where the data was collected. \n",
    "- wban_number: The Weather-Bureau-Army-Navy (WBAN) station number where the data was collected. \n",
    "- mean_temp: The mean temperature of the day in degrees Fahrenheit, accurate to one tenth of a degree. \n",
    "- num_mean_temp_samples: The number of observations used to calculate mean_temp.\n",
    "- mean_sealevel_pressure: The mean sea level pressure of the day in millibars, accurate to one tenth of a millibar \n",
    "- mean_visibility: The mean visibility of the day in miles, accurate to one tenth of a mile. \n",
    "- mean_wind_speed: The mean wind speed of the day in knots, accurate to one tenth of a knot. \n",
    "- max_sustained_wind_speed: The maximum sustained wind speed reported on the day in knots, accurate to one tenth of a knot. \n",
    "- max_gust_wind_speed: The maximum wind gust speed reported on the day in knots, accurate to one tenth of a knot \n",
    "- max_temperature: The maximum temperature of the day in degrees Fahrenheit, accurate to one tenth of a degree. The time that this value is reported differs by country and region, so this value will sometimes not be the maximum for the calendar day.\n",
    "- max_temperature_explicit: Indicates the source of max_temperature. \n",
    "- total_precipitation: The total precipitation of the day in inches, accurate to one hundredth of an inch. \n",
    "- snow_depth: The snow depth of the day in inches, accurate to one tenth of an inch. \n",
    "- fog: Indicates if fog was reported on this day. \n",
    "\n",
    "\n",
    "[Maximum sustained wind speed](https://en.wikipedia.org/wiki/Maximum_sustained_wind): Wind speed relevant for tropical cyclones\n",
    "[Wind gust](https://en.wikipedia.org/wiki/Wind_gust): Brief increase of wind, typically less than 20s\n",
    "\n",
    "From the descriptions, the following changes will be done:\n",
    "- Transform Fahrenheit to Celsius to make the results easier to interpret for my European brain\n",
    "- Transform miles to meters\n",
    "- Transform knots to km/h\n",
    "- Transform inches to cm\n",
    "- Try to drop either station_number or wban_number as they seem to contain redundant information. Maybe give the stations a custom unique key and drop both\n",
    "- Drop min_temperature_explicit and max_temperature_explicit as I do not understand what this column means\n",
    "\n",
    "Note that we'll keep the data s well as individual year, month, day columns even though they contain redundant information. The individual columns might be more useful during model training than the date string."
   ]
  },
  {
   "cell_type": "code",
   "execution_count": 8,
   "metadata": {},
   "outputs": [],
   "source": [
    "df = df_original.copy() # copy df such that the slow (and expensive) query doesn't need to be re-run"
   ]
  },
  {
   "cell_type": "code",
   "execution_count": 9,
   "metadata": {},
   "outputs": [],
   "source": [
    "# convert Fahrenheit to Celsius according to: https://www.rapidtables.com/convert/temperature/fahrenheit-to-celsius.html\n",
    "df['mean_temp'] = (df['mean_temp']-32)*(5/9)\n",
    "df['mean_dew_point'] = (df['mean_dew_point']-32)*(5/9)\n",
    "df['max_temperature'] = (df['max_temperature']-32)*(5/9)\n",
    "df['min_temperature'] = (df['min_temperature']-32)*(5/9)"
   ]
  },
  {
   "cell_type": "code",
   "execution_count": 10,
   "metadata": {},
   "outputs": [],
   "source": [
    "# convert miles to meters according to: https://www.rapidtables.com/convert/length/mile-to-meter.html\n",
    "df['mean_visibility'] = df['mean_visibility']*1609.344"
   ]
  },
  {
   "cell_type": "code",
   "execution_count": 11,
   "metadata": {},
   "outputs": [],
   "source": [
    "# convert knots to km/h\n",
    "df['mean_wind_speed'] = df['mean_wind_speed']*1.852\n",
    "df['max_sustained_wind_speed'] = df['max_sustained_wind_speed']*1.852\n",
    "df['max_gust_wind_speed'] = df['max_gust_wind_speed']*1.852"
   ]
  },
  {
   "cell_type": "code",
   "execution_count": 12,
   "metadata": {},
   "outputs": [],
   "source": [
    "# convert inches to cm according to: https://www.rapidtables.com/convert/length/inch-to-cm.html\n",
    "df['total_precipitation'] = df['total_precipitation']*2.54\n",
    "df['snow_depth'] = df['snow_depth']*2.54"
   ]
  },
  {
   "cell_type": "code",
   "execution_count": 13,
   "metadata": {},
   "outputs": [],
   "source": [
    "# drop max_temperature_explicit\n",
    "df = df.drop(columns=('max_temperature_explicit'))\n",
    "df = df.drop(columns=('min_temperature_explicit')); # add ; to hide output"
   ]
  },
  {
   "cell_type": "code",
   "execution_count": 14,
   "metadata": {},
   "outputs": [
    {
     "name": "stdout",
     "output_type": "stream",
     "text": [
      "NaNs in station_number: False NaNs in wban_number: False\n",
      "Unique station_number: 217 Unique wban_number: 204\n",
      "station_to_multiple_wbans: 126 wban_to_multiple_stations: 1 , maps to 140 distinct station\n"
     ]
    }
   ],
   "source": [
    "# analyse station_number or wban_number\n",
    "print(\"NaNs in station_number:\", df['station_number'].isnull().any(), \"NaNs in wban_number:\", df['wban_number'].isnull().any())\n",
    "## if there are the same nbr. of station_number than wban_number, then we can assume that all stations have both ids\n",
    "print(\"Unique station_number:\", len(df['station_number'].unique()), \"Unique wban_number:\", len(df['wban_number'].unique()))\n",
    "\n",
    "## check if there is a station number with multiple wban_numbers, and vice versa\n",
    "station_to_multiple_wbans = 0\n",
    "wban_to_multiple_stations = 0\n",
    "unique_stations_for_wban = 0\n",
    "\n",
    "groups = df.groupby('station_number')\n",
    "for name, group in groups:\n",
    "    if group.nunique()['wban_number'] > 1:\n",
    "        station_to_multiple_wbans += 1\n",
    "\n",
    "groups = df.groupby('wban_number')\n",
    "for name, group in groups:\n",
    "    if (unique_stations_for_wban := group.nunique()['station_number']) > 1:\n",
    "        wban_to_multiple_stations += 1\n",
    "\n",
    "print(\"station_to_multiple_wbans:\", station_to_multiple_wbans, \"wban_to_multiple_stations:\", wban_to_multiple_stations, \", maps to\", unique_stations_for_wban, \"distinct station\")"
   ]
  },
  {
   "cell_type": "markdown",
   "metadata": {},
   "source": [
    "As it turns out, there is no clear 1-1 relationship between wban and station number. For the sake of time, we'll drop the wban column and just work with the station_number column as this is the identifier requested by the challenge."
   ]
  },
  {
   "cell_type": "code",
   "execution_count": 15,
   "metadata": {},
   "outputs": [],
   "source": [
    "# drop wban number\n",
    "df = df.drop(columns=('wban_number'));"
   ]
  },
  {
   "cell_type": "markdown",
   "metadata": {},
   "source": [
    "The next step is a combination of exploratory analysis and data cleaning/imputation as we can not just blindly drop all the NaNs"
   ]
  },
  {
   "cell_type": "code",
   "execution_count": 16,
   "metadata": {},
   "outputs": [
    {
     "data": {
      "text/plain": [
       "station_number                        False\n",
       "year                                  False\n",
       "month                                 False\n",
       "day                                   False\n",
       "mean_temp                             False\n",
       "num_mean_temp_samples                 False\n",
       "mean_dew_point                         True\n",
       "num_mean_dew_point_samples             True\n",
       "mean_sealevel_pressure                 True\n",
       "num_mean_sealevel_pressure_samples     True\n",
       "mean_station_pressure                  True\n",
       "num_mean_station_pressure_samples      True\n",
       "mean_visibility                        True\n",
       "num_mean_visibility_samples            True\n",
       "mean_wind_speed                        True\n",
       "num_mean_wind_speed_samples            True\n",
       "max_sustained_wind_speed               True\n",
       "max_gust_wind_speed                    True\n",
       "max_temperature                        True\n",
       "min_temperature                        True\n",
       "total_precipitation                    True\n",
       "snow_depth                             True\n",
       "fog                                   False\n",
       "rain                                  False\n",
       "snow                                  False\n",
       "hail                                  False\n",
       "thunder                               False\n",
       "tornado                               False\n",
       "date                                  False\n",
       "dtype: bool"
      ]
     },
     "execution_count": 16,
     "metadata": {},
     "output_type": "execute_result"
    }
   ],
   "source": [
    "df.isna().any()\n"
   ]
  },
  {
   "cell_type": "code",
   "execution_count": 17,
   "metadata": {},
   "outputs": [
    {
     "data": {
      "text/html": [
       "<div>\n",
       "<style scoped>\n",
       "    .dataframe tbody tr th:only-of-type {\n",
       "        vertical-align: middle;\n",
       "    }\n",
       "\n",
       "    .dataframe tbody tr th {\n",
       "        vertical-align: top;\n",
       "    }\n",
       "\n",
       "    .dataframe thead th {\n",
       "        text-align: right;\n",
       "    }\n",
       "</style>\n",
       "<table border=\"1\" class=\"dataframe\">\n",
       "  <thead>\n",
       "    <tr style=\"text-align: right;\">\n",
       "      <th></th>\n",
       "      <th>mean_dew_point</th>\n",
       "      <th>num_mean_dew_point_samples</th>\n",
       "      <th>mean_sealevel_pressure</th>\n",
       "      <th>num_mean_sealevel_pressure_samples</th>\n",
       "      <th>mean_station_pressure</th>\n",
       "      <th>num_mean_station_pressure_samples</th>\n",
       "      <th>mean_visibility</th>\n",
       "      <th>num_mean_visibility_samples</th>\n",
       "      <th>mean_wind_speed</th>\n",
       "      <th>num_mean_wind_speed_samples</th>\n",
       "      <th>max_sustained_wind_speed</th>\n",
       "      <th>max_gust_wind_speed</th>\n",
       "      <th>max_temperature</th>\n",
       "      <th>min_temperature</th>\n",
       "      <th>total_precipitation</th>\n",
       "      <th>snow_depth</th>\n",
       "    </tr>\n",
       "  </thead>\n",
       "  <tbody>\n",
       "    <tr>\n",
       "      <th>0</th>\n",
       "      <td>-2.777778</td>\n",
       "      <td>24</td>\n",
       "      <td>NaN</td>\n",
       "      <td>&lt;NA&gt;</td>\n",
       "      <td>NaN</td>\n",
       "      <td>&lt;NA&gt;</td>\n",
       "      <td>16093.440000</td>\n",
       "      <td>24</td>\n",
       "      <td>11.852800</td>\n",
       "      <td>24</td>\n",
       "      <td>24.076000</td>\n",
       "      <td>29.446799</td>\n",
       "      <td>-2.000000</td>\n",
       "      <td>NaN</td>\n",
       "      <td>0.0000</td>\n",
       "      <td>NaN</td>\n",
       "    </tr>\n",
       "    <tr>\n",
       "      <th>1</th>\n",
       "      <td>-4.166667</td>\n",
       "      <td>24</td>\n",
       "      <td>NaN</td>\n",
       "      <td>&lt;NA&gt;</td>\n",
       "      <td>NaN</td>\n",
       "      <td>&lt;NA&gt;</td>\n",
       "      <td>16093.440000</td>\n",
       "      <td>24</td>\n",
       "      <td>9.630400</td>\n",
       "      <td>24</td>\n",
       "      <td>29.446799</td>\n",
       "      <td>38.892000</td>\n",
       "      <td>-4.000000</td>\n",
       "      <td>NaN</td>\n",
       "      <td>0.0000</td>\n",
       "      <td>NaN</td>\n",
       "    </tr>\n",
       "    <tr>\n",
       "      <th>2</th>\n",
       "      <td>-2.055556</td>\n",
       "      <td>24</td>\n",
       "      <td>1004.900024</td>\n",
       "      <td>19</td>\n",
       "      <td>NaN</td>\n",
       "      <td>&lt;NA&gt;</td>\n",
       "      <td>1287.475219</td>\n",
       "      <td>24</td>\n",
       "      <td>16.482799</td>\n",
       "      <td>24</td>\n",
       "      <td>22.224000</td>\n",
       "      <td>35.188000</td>\n",
       "      <td>-1.000000</td>\n",
       "      <td>NaN</td>\n",
       "      <td>0.8636</td>\n",
       "      <td>20.066</td>\n",
       "    </tr>\n",
       "    <tr>\n",
       "      <th>3</th>\n",
       "      <td>-9.277778</td>\n",
       "      <td>24</td>\n",
       "      <td>1010.000000</td>\n",
       "      <td>24</td>\n",
       "      <td>NaN</td>\n",
       "      <td>&lt;NA&gt;</td>\n",
       "      <td>15932.504986</td>\n",
       "      <td>24</td>\n",
       "      <td>20.001600</td>\n",
       "      <td>24</td>\n",
       "      <td>51.856000</td>\n",
       "      <td>64.820000</td>\n",
       "      <td>-6.111111</td>\n",
       "      <td>NaN</td>\n",
       "      <td>0.0000</td>\n",
       "      <td>NaN</td>\n",
       "    </tr>\n",
       "    <tr>\n",
       "      <th>4</th>\n",
       "      <td>-4.444444</td>\n",
       "      <td>24</td>\n",
       "      <td>1006.400024</td>\n",
       "      <td>20</td>\n",
       "      <td>NaN</td>\n",
       "      <td>&lt;NA&gt;</td>\n",
       "      <td>12874.752000</td>\n",
       "      <td>24</td>\n",
       "      <td>16.853201</td>\n",
       "      <td>24</td>\n",
       "      <td>31.298799</td>\n",
       "      <td>NaN</td>\n",
       "      <td>-9.388889</td>\n",
       "      <td>NaN</td>\n",
       "      <td>0.1016</td>\n",
       "      <td>5.080</td>\n",
       "    </tr>\n",
       "    <tr>\n",
       "      <th>...</th>\n",
       "      <td>...</td>\n",
       "      <td>...</td>\n",
       "      <td>...</td>\n",
       "      <td>...</td>\n",
       "      <td>...</td>\n",
       "      <td>...</td>\n",
       "      <td>...</td>\n",
       "      <td>...</td>\n",
       "      <td>...</td>\n",
       "      <td>...</td>\n",
       "      <td>...</td>\n",
       "      <td>...</td>\n",
       "      <td>...</td>\n",
       "      <td>...</td>\n",
       "      <td>...</td>\n",
       "      <td>...</td>\n",
       "    </tr>\n",
       "    <tr>\n",
       "      <th>377779</th>\n",
       "      <td>-5.055556</td>\n",
       "      <td>24</td>\n",
       "      <td>NaN</td>\n",
       "      <td>&lt;NA&gt;</td>\n",
       "      <td>NaN</td>\n",
       "      <td>&lt;NA&gt;</td>\n",
       "      <td>9334.195507</td>\n",
       "      <td>24</td>\n",
       "      <td>12.593600</td>\n",
       "      <td>24</td>\n",
       "      <td>25.928000</td>\n",
       "      <td>35.188000</td>\n",
       "      <td>-8.000000</td>\n",
       "      <td>NaN</td>\n",
       "      <td>NaN</td>\n",
       "      <td>NaN</td>\n",
       "    </tr>\n",
       "    <tr>\n",
       "      <th>377780</th>\n",
       "      <td>-13.388889</td>\n",
       "      <td>24</td>\n",
       "      <td>NaN</td>\n",
       "      <td>&lt;NA&gt;</td>\n",
       "      <td>NaN</td>\n",
       "      <td>&lt;NA&gt;</td>\n",
       "      <td>12713.817753</td>\n",
       "      <td>24</td>\n",
       "      <td>15.556799</td>\n",
       "      <td>24</td>\n",
       "      <td>31.298799</td>\n",
       "      <td>38.892000</td>\n",
       "      <td>-16.000000</td>\n",
       "      <td>NaN</td>\n",
       "      <td>NaN</td>\n",
       "      <td>NaN</td>\n",
       "    </tr>\n",
       "    <tr>\n",
       "      <th>377781</th>\n",
       "      <td>-9.388889</td>\n",
       "      <td>24</td>\n",
       "      <td>1021.400024</td>\n",
       "      <td>16</td>\n",
       "      <td>NaN</td>\n",
       "      <td>&lt;NA&gt;</td>\n",
       "      <td>10299.801753</td>\n",
       "      <td>24</td>\n",
       "      <td>19.446000</td>\n",
       "      <td>24</td>\n",
       "      <td>29.446799</td>\n",
       "      <td>40.744000</td>\n",
       "      <td>-12.222222</td>\n",
       "      <td>NaN</td>\n",
       "      <td>0.1524</td>\n",
       "      <td>NaN</td>\n",
       "    </tr>\n",
       "    <tr>\n",
       "      <th>377782</th>\n",
       "      <td>-13.444444</td>\n",
       "      <td>24</td>\n",
       "      <td>NaN</td>\n",
       "      <td>&lt;NA&gt;</td>\n",
       "      <td>NaN</td>\n",
       "      <td>&lt;NA&gt;</td>\n",
       "      <td>13035.687014</td>\n",
       "      <td>24</td>\n",
       "      <td>17.408799</td>\n",
       "      <td>24</td>\n",
       "      <td>31.298799</td>\n",
       "      <td>38.892000</td>\n",
       "      <td>-16.000000</td>\n",
       "      <td>NaN</td>\n",
       "      <td>NaN</td>\n",
       "      <td>NaN</td>\n",
       "    </tr>\n",
       "    <tr>\n",
       "      <th>377783</th>\n",
       "      <td>-10.666667</td>\n",
       "      <td>24</td>\n",
       "      <td>NaN</td>\n",
       "      <td>&lt;NA&gt;</td>\n",
       "      <td>NaN</td>\n",
       "      <td>&lt;NA&gt;</td>\n",
       "      <td>10621.670247</td>\n",
       "      <td>24</td>\n",
       "      <td>16.297600</td>\n",
       "      <td>24</td>\n",
       "      <td>29.446799</td>\n",
       "      <td>40.744000</td>\n",
       "      <td>-9.000000</td>\n",
       "      <td>NaN</td>\n",
       "      <td>NaN</td>\n",
       "      <td>NaN</td>\n",
       "    </tr>\n",
       "  </tbody>\n",
       "</table>\n",
       "<p>377784 rows × 16 columns</p>\n",
       "</div>"
      ],
      "text/plain": [
       "        mean_dew_point  num_mean_dew_point_samples  mean_sealevel_pressure  \\\n",
       "0            -2.777778                          24                     NaN   \n",
       "1            -4.166667                          24                     NaN   \n",
       "2            -2.055556                          24             1004.900024   \n",
       "3            -9.277778                          24             1010.000000   \n",
       "4            -4.444444                          24             1006.400024   \n",
       "...                ...                         ...                     ...   \n",
       "377779       -5.055556                          24                     NaN   \n",
       "377780      -13.388889                          24                     NaN   \n",
       "377781       -9.388889                          24             1021.400024   \n",
       "377782      -13.444444                          24                     NaN   \n",
       "377783      -10.666667                          24                     NaN   \n",
       "\n",
       "        num_mean_sealevel_pressure_samples  mean_station_pressure  \\\n",
       "0                                     <NA>                    NaN   \n",
       "1                                     <NA>                    NaN   \n",
       "2                                       19                    NaN   \n",
       "3                                       24                    NaN   \n",
       "4                                       20                    NaN   \n",
       "...                                    ...                    ...   \n",
       "377779                                <NA>                    NaN   \n",
       "377780                                <NA>                    NaN   \n",
       "377781                                  16                    NaN   \n",
       "377782                                <NA>                    NaN   \n",
       "377783                                <NA>                    NaN   \n",
       "\n",
       "        num_mean_station_pressure_samples  mean_visibility  \\\n",
       "0                                    <NA>     16093.440000   \n",
       "1                                    <NA>     16093.440000   \n",
       "2                                    <NA>      1287.475219   \n",
       "3                                    <NA>     15932.504986   \n",
       "4                                    <NA>     12874.752000   \n",
       "...                                   ...              ...   \n",
       "377779                               <NA>      9334.195507   \n",
       "377780                               <NA>     12713.817753   \n",
       "377781                               <NA>     10299.801753   \n",
       "377782                               <NA>     13035.687014   \n",
       "377783                               <NA>     10621.670247   \n",
       "\n",
       "        num_mean_visibility_samples  mean_wind_speed  \\\n",
       "0                                24        11.852800   \n",
       "1                                24         9.630400   \n",
       "2                                24        16.482799   \n",
       "3                                24        20.001600   \n",
       "4                                24        16.853201   \n",
       "...                             ...              ...   \n",
       "377779                           24        12.593600   \n",
       "377780                           24        15.556799   \n",
       "377781                           24        19.446000   \n",
       "377782                           24        17.408799   \n",
       "377783                           24        16.297600   \n",
       "\n",
       "        num_mean_wind_speed_samples  max_sustained_wind_speed  \\\n",
       "0                                24                 24.076000   \n",
       "1                                24                 29.446799   \n",
       "2                                24                 22.224000   \n",
       "3                                24                 51.856000   \n",
       "4                                24                 31.298799   \n",
       "...                             ...                       ...   \n",
       "377779                           24                 25.928000   \n",
       "377780                           24                 31.298799   \n",
       "377781                           24                 29.446799   \n",
       "377782                           24                 31.298799   \n",
       "377783                           24                 29.446799   \n",
       "\n",
       "        max_gust_wind_speed  max_temperature  min_temperature  \\\n",
       "0                 29.446799        -2.000000              NaN   \n",
       "1                 38.892000        -4.000000              NaN   \n",
       "2                 35.188000        -1.000000              NaN   \n",
       "3                 64.820000        -6.111111              NaN   \n",
       "4                       NaN        -9.388889              NaN   \n",
       "...                     ...              ...              ...   \n",
       "377779            35.188000        -8.000000              NaN   \n",
       "377780            38.892000       -16.000000              NaN   \n",
       "377781            40.744000       -12.222222              NaN   \n",
       "377782            38.892000       -16.000000              NaN   \n",
       "377783            40.744000        -9.000000              NaN   \n",
       "\n",
       "        total_precipitation  snow_depth  \n",
       "0                    0.0000         NaN  \n",
       "1                    0.0000         NaN  \n",
       "2                    0.8636      20.066  \n",
       "3                    0.0000         NaN  \n",
       "4                    0.1016       5.080  \n",
       "...                     ...         ...  \n",
       "377779                  NaN         NaN  \n",
       "377780                  NaN         NaN  \n",
       "377781               0.1524         NaN  \n",
       "377782                  NaN         NaN  \n",
       "377783                  NaN         NaN  \n",
       "\n",
       "[377784 rows x 16 columns]"
      ]
     },
     "execution_count": 17,
     "metadata": {},
     "output_type": "execute_result"
    }
   ],
   "source": [
    "df[df.columns[df.isnull().any()]]"
   ]
  },
  {
   "cell_type": "markdown",
   "metadata": {},
   "source": [
    "## snow_depth\n",
    "The NaN at show_depth might be that no snow fell on that day and that the height is 0. To confirm this, we could plot the snow and snow_depth variables side-by-side. It could also be the case that certain stations didn't record this.\n",
    "\n",
    "As it turns out, the majority of stations didn't record any snow_depth even though they all recorded whether it snowed. Therefore, this column will be dropped."
   ]
  },
  {
   "cell_type": "code",
   "execution_count": 18,
   "metadata": {},
   "outputs": [
    {
     "name": "stdout",
     "output_type": "stream",
     "text": [
      "stations with no snow_depth: 188 stations with no snow 0 total number of stations: 217\n"
     ]
    }
   ],
   "source": [
    "groups = df.groupby('station_number', as_index = False)\n",
    "stations_with_no_depth = 0\n",
    "stations_with_no_snow = 0\n",
    "for name, group in groups:\n",
    "    if group['snow_depth'].count() == 0:\n",
    "        stations_with_no_depth += 1\n",
    "\n",
    "for name, group in groups:\n",
    "    if group['snow'].count() == 0:\n",
    "        stations_with_no_snow += 1\n",
    "print(\"stations with no snow_depth:\", stations_with_no_depth, \"stations with no snow\", stations_with_no_snow, \"total number of stations:\", len(df['station_number'].unique()))"
   ]
  },
  {
   "cell_type": "code",
   "execution_count": 19,
   "metadata": {},
   "outputs": [],
   "source": [
    "df = df.drop(columns=('snow_depth'))"
   ]
  },
  {
   "cell_type": "markdown",
   "metadata": {},
   "source": [
    "## min_temperature\n",
    "This column is only NaNs and will be dropped. This is very unfortunate, as I expected it to have at least some predictive power for the task at hand :("
   ]
  },
  {
   "cell_type": "code",
   "execution_count": 20,
   "metadata": {},
   "outputs": [
    {
     "name": "stdout",
     "output_type": "stream",
     "text": [
      "non-NaN values of min_temperature: 0\n"
     ]
    }
   ],
   "source": [
    "print(\"non-NaN values of min_temperature:\", df['min_temperature'].count())\n",
    "df = df.drop(columns=('min_temperature'))"
   ]
  },
  {
   "cell_type": "markdown",
   "metadata": {},
   "source": [
    "## num_mean_XX_samples\n",
    "It is not immediately clear how num_mean_station_pressure_samples, num_mean_visibility_samples, num_mean_wind_speed_samples,... help for predictions so we'll drop them."
   ]
  },
  {
   "cell_type": "code",
   "execution_count": 21,
   "metadata": {},
   "outputs": [],
   "source": [
    "df = df.drop(columns=('num_mean_temp_samples'))\n",
    "df = df.drop(columns=('num_mean_dew_point_samples'))\n",
    "df = df.drop(columns=('num_mean_sealevel_pressure_samples'))\n",
    "df = df.drop(columns=('num_mean_station_pressure_samples'))\n",
    "df = df.drop(columns=('num_mean_visibility_samples'))\n",
    "df = df.drop(columns=('num_mean_wind_speed_samples'))"
   ]
  },
  {
   "cell_type": "markdown",
   "metadata": {},
   "source": [
    "## mean_XX_pressure\n",
    "The majority of mean_station_pressure entries are NaNs and this column will be dropped. Around 38% of stations don't contain any sealevel pressure. In order to not drop _all_ the possible predictors, we'll drop these stations and keep the column.\n",
    "\n",
    "\n",
    "mean_sealevel_pressure still contains many NaNs. The question is whether all stations contain some NaN values, or some stations contain only NaN values. In the former case, imputation with nearby days could be used and can be quickly verified with a plot. In the latter, the stations can be dropped if it's not too many."
   ]
  },
  {
   "cell_type": "code",
   "execution_count": 22,
   "metadata": {},
   "outputs": [
    {
     "name": "stdout",
     "output_type": "stream",
     "text": [
      "Fraction of non-NaN values of station_pressure: 0.0230687376913792 Fraction of non-NaN values of sealevel_pressure: 0.6139407703873113\n"
     ]
    }
   ],
   "source": [
    "print('Fraction of non-NaN values of station_pressure:',  df['mean_station_pressure'].count()/df['mean_station_pressure'].shape[0], 'Fraction of non-NaN values of sealevel_pressure:', df['mean_sealevel_pressure'].count()/df['mean_sealevel_pressure'].shape[0])\n",
    "df = df.drop(columns=('mean_station_pressure'))"
   ]
  },
  {
   "cell_type": "code",
   "execution_count": 23,
   "metadata": {},
   "outputs": [
    {
     "name": "stdout",
     "output_type": "stream",
     "text": [
      "stations with no sealevel_pressure: 84 fraction: 0.3870967741935484\n"
     ]
    }
   ],
   "source": [
    "groups = df.groupby('station_number', as_index = False)\n",
    "no_sealevel_pressure= 0\n",
    "for name, group in groups:\n",
    "    if group['mean_sealevel_pressure'].count() == 0:\n",
    "        no_sealevel_pressure += 1\n",
    "\n",
    "print(\"stations with no sealevel_pressure:\", no_sealevel_pressure, \"fraction:\", no_sealevel_pressure/df['station_number'].nunique())"
   ]
  },
  {
   "cell_type": "code",
   "execution_count": 24,
   "metadata": {},
   "outputs": [],
   "source": [
    "groups = df.groupby('station_number', as_index = False)\n",
    "no_sealevel_pressure= 0\n",
    "no_pressure_list = []\n",
    "for name, group in groups:\n",
    "    if group['mean_sealevel_pressure'].count() == 0:\n",
    "        no_pressure_list.append(name)\n",
    "        no_sealevel_pressure += 1\n",
    "df = df.drop(df[df['station_number'].isin(no_pressure_list)].index)"
   ]
  },
  {
   "cell_type": "markdown",
   "metadata": {},
   "source": [
    "There are still some NaNs for sealevel_pressure. They can be imputed with the mean of nearby days "
   ]
  },
  {
   "cell_type": "code",
   "execution_count": 25,
   "metadata": {},
   "outputs": [],
   "source": [
    "df['mean_sealevel_pressure'] = mean_impute(df, 'mean_sealevel_pressure')"
   ]
  },
  {
   "cell_type": "markdown",
   "metadata": {},
   "source": [
    "## remaining columns\n",
    "Due to time constraints, the remaining columns will be imputed the same way"
   ]
  },
  {
   "cell_type": "code",
   "execution_count": 26,
   "metadata": {},
   "outputs": [],
   "source": [
    "df['mean_dew_point'] = mean_impute(df, 'mean_dew_point')\n",
    "df['mean_visibility'] = mean_impute(df, 'mean_visibility')\n",
    "df['mean_wind_speed'] = mean_impute(df, 'mean_wind_speed')\n",
    "df['total_precipitation'] = mean_impute(df, 'total_precipitation')\n",
    "df['max_temperature'] = mean_impute(df, 'max_temperature')"
   ]
  },
  {
   "cell_type": "markdown",
   "metadata": {},
   "source": [
    "## max_*_wind_speed\n",
    "Besides max_wind_speed, there are two other columns: max_sustained_wind_speed and max_gust_wind_speed. All three of them are most probably highly correlated and only one of the three is required. With more time, I'd keep all of them in the model and see whether some of them get dropped during a feature selection step. Due to the time limit I'll drop max_sustained_wind_speed and max_gust_wind_speed. I chose these two because I understand their meaning the least."
   ]
  },
  {
   "cell_type": "code",
   "execution_count": 27,
   "metadata": {},
   "outputs": [],
   "source": [
    "df = df.drop(columns=('max_sustained_wind_speed'))\n",
    "df = df.drop(columns=('max_gust_wind_speed'))"
   ]
  },
  {
   "cell_type": "code",
   "execution_count": 28,
   "metadata": {},
   "outputs": [],
   "source": [
    "df_cleaned = df.copy()"
   ]
  },
  {
   "cell_type": "markdown",
   "metadata": {},
   "source": [
    "### 3. Task\n",
    "Now it is time to split the data, into a training, evaluation and test set. As a reminder, the date we are trying to predict snow fall for is the following, and hence should constitute your test set."
   ]
  },
  {
   "cell_type": "code",
   "execution_count": 29,
   "metadata": {},
   "outputs": [
    {
     "data": {
      "text/plain": [
       "'2009-05-18'"
      ]
     },
     "execution_count": 29,
     "metadata": {},
     "output_type": "execute_result"
    }
   ],
   "source": [
    "str(dt.datetime.today()- dt.timedelta(days=13*365)).split(' ')[0]"
   ]
  },
  {
   "cell_type": "markdown",
   "metadata": {},
   "source": [
    "Test set: randomly select 10% of stations which are not used during, plotting,... at all. The train/validation splits will be done later."
   ]
  },
  {
   "cell_type": "code",
   "execution_count": 30,
   "metadata": {},
   "outputs": [],
   "source": [
    "test_set_stations = np.random.choice(df_cleaned['station_number'].unique(), size = len(df_cleaned['station_number'].unique())//10, replace=False)"
   ]
  },
  {
   "cell_type": "code",
   "execution_count": 31,
   "metadata": {},
   "outputs": [],
   "source": [
    "df = df_cleaned[~df_cleaned['station_number'].isin(test_set_stations)]"
   ]
  },
  {
   "cell_type": "code",
   "execution_count": 32,
   "metadata": {},
   "outputs": [],
   "source": [
    "# make sure that we didn't mess up this step as it'll invalidate everything if we accidentally train on the holdout data\n",
    "assert(df_cleaned['station_number'].nunique() > df['station_number'].nunique()) "
   ]
  },
  {
   "cell_type": "markdown",
   "metadata": {},
   "source": [
    "## Part 2\n",
    "If you made it up to here all by yourself, you can use your prepared dataset to train an Algorithm of your choice to forecast whether it will snow on the following date for each station in this dataset:"
   ]
  },
  {
   "cell_type": "code",
   "execution_count": 33,
   "metadata": {},
   "outputs": [
    {
     "data": {
      "text/plain": [
       "'2009-05-18'"
      ]
     },
     "execution_count": 33,
     "metadata": {},
     "output_type": "execute_result"
    }
   ],
   "source": [
    "str(dt.datetime.today()- dt.timedelta(days=13*365)).split(' ')[0]"
   ]
  },
  {
   "cell_type": "markdown",
   "metadata": {},
   "source": [
    "You are allowed to use any library you are comfortable with such as sklearn, tensorflow keras etc. \n",
    "If you did not manage to finish part one feel free to use the data provided in 'coding_challenge.csv' Note that this data does not represent a solution to Part 1. "
   ]
  },
  {
   "cell_type": "markdown",
   "metadata": {},
   "source": [
    "### Markov Chain\n",
    "Train one of the most simple models: A Markov chain per site. Many choices to build one, so let's just predict the probability of snow followed by rain. During this process it turned out, that the data has an issue and the rain and snow columns are equal!\n",
    "\n",
    "Code for this is adapted from: https://github.com/eliekayitare/Markov_chain_weather_prediction/blob/master/weather_prediction.ipynb\n",
    "\n",
    "Note that this returns a probability. To convert this into a \"yes\"/\"no\" answer we have to choose a threshold, such as 75%."
   ]
  },
  {
   "cell_type": "code",
   "execution_count": 34,
   "metadata": {},
   "outputs": [
    {
     "name": "stdout",
     "output_type": "stream",
     "text": [
      "Probability to snow after snowing: 0.05866228070175439 Probability to snow after raining: 0.9413377192982456\n",
      "Probability to rain after raining: 0.05866228070175439 Probability to rain after snowing: 0.9413377192982456\n"
     ]
    }
   ],
   "source": [
    "# Code to test out the method on a single station\n",
    "\n",
    "df_tmp = df[df['station_number'] == df['station_number'].iloc[0]]\n",
    "total_days = df_tmp.shape[0]\n",
    "\n",
    "# proba of snow after snow\n",
    "snow_after_snow_counter = 0\n",
    "snow_previous = False # assumption, could also be run with True and compared\n",
    "for idx, day in df_tmp.iterrows():\n",
    "    # This assumes that there are no missing days... Should be checked\n",
    "    if day['snow'] and snow_previous:\n",
    "        snow_after_snow_counter += 1\n",
    "    snow_previous = day['snow']\n",
    "\n",
    "proba_snow_after_snow = snow_after_snow_counter/total_days\n",
    "proba_snow_after_rain = 1-proba_snow_after_snow\n",
    "print(\"Probability to snow after snowing:\", proba_snow_after_snow, \"Probability to snow after raining:\", proba_snow_after_rain)\n",
    "\n",
    "\n",
    "\n",
    "# proba of rain_after_snow\n",
    "rain_after_rain_counter = 0\n",
    "rain_previous = False\n",
    "for idx, day in df_tmp.iterrows():\n",
    "    if day['rain'] and rain_previous:\n",
    "        rain_after_rain_counter += 1\n",
    "    rain_previous = day['rain']\n",
    "\n",
    "proba_rain_after_rain = rain_after_rain_counter/total_days\n",
    "proba_rain_after_snow = 1-proba_rain_after_rain\n",
    "print(\"Probability to rain after raining:\", proba_rain_after_rain, \"Probability to rain after snowing:\", proba_rain_after_snow) "
   ]
  },
  {
   "cell_type": "code",
   "execution_count": 35,
   "metadata": {},
   "outputs": [
    {
     "data": {
      "text/plain": [
       "True"
      ]
     },
     "execution_count": 35,
     "metadata": {},
     "output_type": "execute_result"
    }
   ],
   "source": [
    "df['rain'].equals(df['snow'])"
   ]
  },
  {
   "cell_type": "code",
   "execution_count": 36,
   "metadata": {},
   "outputs": [
    {
     "data": {
      "text/plain": [
       "True"
      ]
     },
     "execution_count": 36,
     "metadata": {},
     "output_type": "execute_result"
    }
   ],
   "source": [
    "df_original['rain'].equals(df_original['snow'])"
   ]
  },
  {
   "cell_type": "raw",
   "metadata": {},
   "source": [
    "# Pseudocode to save time. validation implementation for the markov chain\n",
    "# This can also be used for features selection. Are snow/rain the correct two states? What about snow/fog? snow/wind? What about more states?\n",
    "\n",
    "# treat stations independently\n",
    "for station in stations:\n",
    "    # run model validation: Chose a random date and train the model from start date up to that date. Then predict the following date\n",
    "    # Note that for model convergence it probably doesn't make sense to have a cutoff-date too early\n",
    "    cutoff_index = np.randint(30, num_of_days) \n",
    "    train_data = station.iloc[0:cutoff_index]\n",
    "    test_data = station.iloc[cutoff_index:]\n",
    "\n",
    "    probabilities = fit_markov_chain(train_data)\n",
    "    # The model got trained from 0:cutoff . Therefore, we can test from cutoff:num_of_days and get an array as result\n",
    "    does_it_snow = predict(probabilities, test_data)\n",
    "    num_of_correct = (test_data['snow'] == does_it_snow).sum()\n",
    "    print(\"Correct predictions:\", num_of_correct, \"fraction:\", num_of_correct/test_data.shape[0])\n",
    "    "
   ]
  },
  {
   "cell_type": "markdown",
   "metadata": {},
   "source": [
    "Assuming that rain and snow data were correct, why is the model bad? We disregard seasonality. As rain has more or less the same probability in each month, the probability of snow after rain is therefore also the same for each month. To improve this model, a different feature needs to be used which captures seasonality, such as the temperature. Alternatively the data can be split up into groups of months or the four seasons and a chain per season is created."
   ]
  },
  {
   "cell_type": "code",
   "execution_count": 37,
   "metadata": {},
   "outputs": [
    {
     "data": {
      "text/plain": [
       "<matplotlib.collections.PathCollection at 0x14ea00160>"
      ]
     },
     "execution_count": 37,
     "metadata": {},
     "output_type": "execute_result"
    },
    {
     "data": {
      "image/png": "[encoded data removed]",
      "text/plain": [
       "<Figure size 432x288 with 1 Axes>"
      ]
     },
     "metadata": {
      "needs_background": "dark"
     },
     "output_type": "display_data"
    }
   ],
   "source": [
    "# Visualization that every month has more or less the same probability of rain, and rain therefore doesn't track seasonality\n",
    "df_tmp = df[df['station_number'] == df['station_number'].iloc[0]]\n",
    "df_tmp = df_tmp[df_tmp['year'] == 2007]\n",
    "ax = plt.gca()\n",
    "ax.xaxis_date()\n",
    "plt.scatter(df_tmp['date'], df_tmp['rain'])"
   ]
  },
  {
   "cell_type": "markdown",
   "metadata": {},
   "source": [
    "For some reason, all the binary columns are equal... This means that none of them can be used."
   ]
  },
  {
   "cell_type": "code",
   "execution_count": 38,
   "metadata": {},
   "outputs": [
    {
     "name": "stdout",
     "output_type": "stream",
     "text": [
      "True\n",
      "True\n",
      "True\n",
      "True\n"
     ]
    }
   ],
   "source": [
    "print(df['fog'].equals(df['snow']))\n",
    "print(df['hail'].equals(df['snow']))\n",
    "print(df['thunder'].equals(df['snow']))\n",
    "print(df['tornado'].equals(df['snow']))"
   ]
  },
  {
   "cell_type": "code",
   "execution_count": 39,
   "metadata": {},
   "outputs": [
    {
     "data": {
      "text/plain": [
       "<matplotlib.collections.PathCollection at 0x14ec5c2e0>"
      ]
     },
     "execution_count": 39,
     "metadata": {},
     "output_type": "execute_result"
    },
    {
     "data": {
      "image/png": "[encoded data removed]",
      "text/plain": [
       "<Figure size 432x288 with 1 Axes>"
      ]
     },
     "metadata": {
      "needs_background": "dark"
     },
     "output_type": "display_data"
    }
   ],
   "source": [
    "# Quick check for snow_depth. Snow data is available only for January, which makes this already better than the snow column.\n",
    "# This has data all over the year\n",
    "df_tmp = df_original[df_original['station_number'] == 725975]\n",
    "ax = plt.gca()\n",
    "ax.xaxis_date()\n",
    "plt.scatter(df_tmp['date'], df_tmp['snow_depth'])"
   ]
  },
  {
   "cell_type": "markdown",
   "metadata": {},
   "source": [
    "### Trees\n",
    "Even though a time series model might be appropriate, I don't think that wee need advanced models such as SARIMA. From experience snowfall is seasonal, and simply predicting the probability of snow by month and temperature will therefore already be a pretty good model. Trees can capture this. \n",
    "\n",
    "There's no good proxy to predict snow and just for the sage of this challenge, I'll ignore that the column is useless and fit a tree.\n",
    "\n",
    "Once again, the stations will be treated independently, and we have to fit a tree per station. Since they're geographically distributed it's possible that the seasons are shifted and that for some e.g. January is summer and for others winter.\n",
    "\n",
    "Code taken from: https://scikit-learn.org/stable/modules/tree.html"
   ]
  },
  {
   "cell_type": "code",
   "execution_count": 40,
   "metadata": {},
   "outputs": [],
   "source": [
    "# cell to test out and get everything running\n",
    "df_tmp = df[df['station_number'] == df['station_number'].iloc[0]]\n",
    "# We skip day to avoid overfitting, and year as this probably has no relation to the seasonality and only impacts the trend of the data (global warming :( )\n",
    "# additional feature which might help could be the number of the week\n",
    "X = df_tmp[['month', 'mean_temp', 'mean_dew_point', 'mean_sealevel_pressure', 'mean_visibility', 'mean_wind_speed', 'max_temperature', 'total_precipitation']].to_numpy()\n",
    "Y = df_tmp[['snow']].to_numpy().flatten().astype('bool')\n",
    "clf = tree.DecisionTreeClassifier()\n",
    "clf = clf.fit(X, Y)\n",
    "\n",
    "#tree.plot_tree(clf)"
   ]
  },
  {
   "cell_type": "markdown",
   "metadata": {},
   "source": [
    "The next step would be cross-validation to find a good tree depth and relevant features. At this step, the Markov chain can be considered the naive model and the tree a more sophisticated one, and we should check whether the tree outperforms it.\n",
    "\n",
    "Additional steps such as pruning, boosting, or bagging will also be done here.\n",
    "\n",
    "Lastly, the holdout set from before should be used here to give a more unbiased estimate of the model performance. Since the data is not suitable for snow prediction, it's useless to do this now."
   ]
  }
 ],
 "metadata": {
  "interpreter": {
   "hash": "50dba5b0775c9b00d5a04a7c9e9d6d2111509258b51c82b1670806622d264f08"
  },
  "kernelspec": {
   "display_name": "7learnings",
   "language": "python",
   "name": "7learnings"
  },
  "language_info": {
   "codemirror_mode": {
    "name": "ipython",
    "version": 3
   },
   "file_extension": ".py",
   "mimetype": "text/x-python",
   "name": "python",
   "nbconvert_exporter": "python",
   "pygments_lexer": "ipython3",
   "version": "3.9.12"
  }
 },
 "nbformat": 4,
 "nbformat_minor": 4
}
